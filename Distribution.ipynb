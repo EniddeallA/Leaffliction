{
 "cells": [
  {
   "cell_type": "code",
   "execution_count": 2,
   "metadata": {},
   "outputs": [],
   "source": [
    "import numpy as np\n",
    "import pandas as pd\n",
    "import matplotlib.pyplot as plt\n",
    "import seaborn as sns"
   ]
  },
  {
   "cell_type": "code",
   "execution_count": 3,
   "metadata": {},
   "outputs": [],
   "source": [
    "import os\n",
    "def fetch_image_dataset(path:str):\n",
    "    apple = {}\n",
    "    grape = {}\n",
    "    for subd in os.listdir(path):\n",
    "        # inside images\n",
    "        if subd.startswith('Apple'):\n",
    "            # apple = {'apple_healthy': [], 'apple_black_rot': [], 'apple_cedar_rust': [], 'apple_scab': []}\n",
    "            apple[subd] = []\n",
    "            for img in os.listdir(os.path.join(path,subd)):\n",
    "                apple[subd].append(img)\n",
    "        elif subd.startswith('Grape'):\n",
    "            # grape = {'grape_healthy': [], 'grape_black_rot': [], 'apple_esca': [], 'apple_spot': []}\n",
    "            grape[subd] = []\n",
    "            for img in os.listdir(os.path.join(path,subd)):\n",
    "                grape[subd].append(img)\n",
    "        else:\n",
    "            print('Plant not supported')\n",
    "    return apple, grape"
   ]
  },
  {
   "cell_type": "code",
   "execution_count": 4,
   "metadata": {},
   "outputs": [],
   "source": [
    "apple, grape = fetch_image_dataset('C:/Users/khali/Desktop/Leaffliction/images')"
   ]
  },
  {
   "cell_type": "code",
   "execution_count": 5,
   "metadata": {},
   "outputs": [],
   "source": [
    "def analyze_distribution(data:dict):\n",
    "    dist = {}\n",
    "    for k,v in data.items():\n",
    "        dist[k] = len(v)\n",
    "    return dist"
   ]
  },
  {
   "cell_type": "code",
   "execution_count": 6,
   "metadata": {},
   "outputs": [],
   "source": [
    "apple_dist = analyze_distribution(apple)\n",
    "grape_dist = analyze_distribution(grape)"
   ]
  },
  {
   "cell_type": "code",
   "execution_count": 13,
   "metadata": {},
   "outputs": [],
   "source": [
    "\n",
    "def plot_distribution(data: dict):\n",
    "    fig, (ax1, ax2) = plt.subplots(1, 2, figsize=(20, 8))\n",
    "    \n",
    "    # Define color palette\n",
    "    colors = plt.cm.tab10.colors\n",
    "    \n",
    "    # Bar chart\n",
    "    ax1.bar(data.keys(), data.values(), color=colors[:len(data)])\n",
    "    # Pie chart\n",
    "    ax2.pie(data.values(), labels=data.keys(), autopct='%1.1f%%', colors=colors[:len(data)])\n",
    "    \n",
    "    plt.title(f'{list(data.keys())[0][:5]} Distribution')\n",
    "    plt.tight_layout()\n",
    "    plt.show()\n"
   ]
  },
  {
   "cell_type": "code",
   "execution_count": null,
   "metadata": {},
   "outputs": [],
   "source": [
    "plot_distribution(apple_dist)\n",
    "plot_distribution(grape_dist)"
   ]
  },
  {
   "cell_type": "code",
   "execution_count": 33,
   "metadata": {},
   "outputs": [],
   "source": [
    "import torch\n",
    "from torchvision.transforms import v2\n",
    "from PIL import Image\n",
    "import os\n",
    "import random\n",
    "\n",
    "def Augmentation(path:str):\n",
    "    for subd in os.listdir(path):\n",
    "        newpath = os.path.join(path, subd)\n",
    "        os.makedirs(newpath + '/Augmented', exist_ok=True)\n",
    "        for img in os.listdir(newpath):\n",
    "            if img.lower().endswith('.jpg'):\n",
    "                image = Image.open(os.path.join(newpath +'/', img))\n",
    "\n",
    "                blur = v2.GaussianBlur(kernel_size=(3, 7), sigma=(1.5, 6))(image)\n",
    "                blur.save(os.path.join(newpath + '/Augmented', img.split('.')[0] + \"_blur.jpg\"))\n",
    "\n",
    "                rotate = v2.RandomRotation(degrees=[-80, 80])(image)\n",
    "                rotate.save(os.path.join(newpath + '/Augmented', img.split('.')[0] + \"_rotate.jpg\"))\n",
    "                \n",
    "                contrast = v2.ColorJitter(brightness=(0.5, 2), contrast=(0.5, 2), saturation=(0.5, 2))(image)\n",
    "                contrast.save(os.path.join(newpath + '/Augmented', img.split('.')[0] + \"_contrast.jpg\"))\n",
    "                \n",
    "                scaling = v2.RandomResizedCrop(size=(200, 200))(image)\n",
    "                scaling.save(os.path.join(newpath + '/Augmented', img.split('.')[0] + \"_scaling.jpg\"))\n",
    "                \n",
    "                shear = v2.RandomAffine(degrees=0, shear=45)(image)\n",
    "                shear.save(os.path.join(newpath + '/Augmented', img.split('.')[0] + '_shear.jpg'))\n",
    "                \n",
    "                if random.randint(0, 1) == 0:\n",
    "                    flip = v2.functional.hflip(image)\n",
    "                else:\n",
    "                    flip = v2.functional.vflip(image)\n",
    "                flip.save(os.path.join(newpath + '/Augmented', img.split('.')[0] + '_flip.jpg'))"
   ]
  },
  {
   "cell_type": "code",
   "execution_count": 34,
   "metadata": {},
   "outputs": [],
   "source": [
    "path = \"C:\\\\Users\\\\khali\\\\Desktop\\\\LEAFFLICTION\\\\images\"\n",
    "Augmentation(path)"
   ]
  },
  {
   "cell_type": "code",
   "execution_count": 28,
   "metadata": {},
   "outputs": [],
   "source": [
    "from plantcv import plantcv as pcv\n",
    "import matplotlib.pyplot as plt\n",
    "import os\n",
    "\n",
    "def gaussian_blur(mask):\n",
    "    gaussian_img = pcv.gaussian_blur(img=mask, ksize=(3, 3))\n",
    "\n",
    "def apply_mask(image, mask):\n",
    "    masked = pcv.apply_mask(img=image, mask=mask, mask_color='white')\n",
    "\n",
    "def rect_roi(image):\n",
    "    rect_roi = pcv.roi.rectangle(img=image, x=35, y=8, h=235, w=200)\n",
    "\n",
    "def shape_analysis(image, mask):\n",
    "    shape_img = pcv.analyze.size(img=image, labeled_mask=mask)\n",
    "\n",
    "def x_pseudolandmarks(image, mask):\n",
    "    top, bottom, center_v = pcv.homology.x_axis_pseudolandmarks(img=image, mask=mask)\n",
    "\n",
    "def y_pseudolandmarks(image, mask):\n",
    "    left, right, center_h = pcv.homology.y_axis_pseudolandmarks(img=image, mask=mask)\n",
    "\n",
    "def Transformation(src:str, dest:str = None):\n",
    "    if src.lower().endswith('.jpg'):\n",
    "        pcv.params.debug = \"plot\"\n",
    "        image, _, _ = pcv.readimage(filename=src)\n",
    "\n",
    "        # Identify the grayscale image that maximizes the gray value difference\n",
    "        # between the plant and the background with:\n",
    "        # cs = pcv.visualize.colorspaces(rgb_img=image, original_img=False)\n",
    "        # We deduce that the 'LAB' colorspace's channel 'a' is the best option \n",
    "        # for our grayscale image\n",
    "        grayscale_img = pcv.rgb2gray_lab(rgb_img=image, channel=\"a\")\n",
    "        \n",
    "        # Identify plant from background, by converting the grayscale image \n",
    "        # to a binary image (MASK) using a threshold value of '119' which is \n",
    "        # the minimum value between the two peaks in our histogram:\n",
    "        # hist = pcv.visualize.histogram(img=grayscale_img, bins=30)\n",
    "        s_thresh = pcv.threshold.binary(grayscale_img, threshold=119, object_type=\"dark\")\n",
    "        # Apply Transformations\n",
    "        gaussian_blur(s_thresh)\n",
    "        apply_mask(image, s_thresh)\n",
    "        rect_roi(image)\n",
    "        shape_analysis(image, s_thresh)\n",
    "        x_pseudolandmarks(image, s_thresh)\n",
    "        y_pseudolandmarks(image, s_thresh)\n",
    "    else:\n",
    "        pcv.params.debug = \"print\"\n",
    "        if dest:\n",
    "            pcv.params.debug_outdir = dest\n",
    "            os.makedirs(f\"{dest}\", exist_ok=True)\n",
    "        else:\n",
    "            pcv.params.debug_outdir = f\"{src}/Transformed\"\n",
    "            os.makedirs(f\"{src}/Transformed\", exist_ok=True)\n",
    "        for img in os.listdir(src):\n",
    "            if img.lower().endswith('.jpg'):\n",
    "                image, _, _ = pcv.readimage(filename=os.path.join(src, img))\n",
    "                grayscale_img = pcv.rgb2gray_lab(rgb_img=image, channel=\"a\")\n",
    "                s_thresh = pcv.threshold.binary(grayscale_img, threshold=119, object_type=\"dark\")\n",
    "                gaussian_blur(s_thresh)\n",
    "                apply_mask(image, s_thresh)\n",
    "                rect_roi(image)\n",
    "                shape_analysis(image, s_thresh)\n",
    "                x_pseudolandmarks(image, s_thresh)\n",
    "                y_pseudolandmarks(image, s_thresh)\n",
    "    \n",
    "    pcv.outputs.save_results(filename=f\"result.json\", outformat=\"json\")"
   ]
  },
  {
   "cell_type": "code",
   "execution_count": null,
   "metadata": {},
   "outputs": [],
   "source": [
    "src = \"C:\\\\Users\\\\khali\\\\Desktop\\\\LEAFFLICTION\\\\images\\\\Apple_healthy\\\\image (1).jpg\"\n",
    "Transformation(src)"
   ]
  }
 ],
 "metadata": {
  "kernelspec": {
   "display_name": "Python 3",
   "language": "python",
   "name": "python3"
  },
  "language_info": {
   "codemirror_mode": {
    "name": "ipython",
    "version": 3
   },
   "file_extension": ".py",
   "mimetype": "text/x-python",
   "name": "python",
   "nbconvert_exporter": "python",
   "pygments_lexer": "ipython3",
   "version": "3.12.4"
  }
 },
 "nbformat": 4,
 "nbformat_minor": 2
}
