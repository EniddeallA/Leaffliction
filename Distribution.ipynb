{
 "cells": [
  {
   "cell_type": "code",
   "execution_count": 1,
   "metadata": {},
   "outputs": [],
   "source": [
    "import numpy as np\n",
    "import pandas as pd\n",
    "import matplotlib.pyplot as plt\n",
    "import seaborn as sns"
   ]
  },
  {
   "cell_type": "code",
   "execution_count": 13,
   "metadata": {},
   "outputs": [],
   "source": [
    "import os\n",
    "def fetch_image_dataset(path:str):\n",
    "    apple = {}\n",
    "    grape = {}\n",
    "    for subd in os.listdir(path):\n",
    "        ## inside images\n",
    "        if subd.startswith('Apple'):\n",
    "            # apple = {'apple_healthy': [], 'apple_black_rot': [], 'apple_cedar_rust': [], 'apple_scab': []}\n",
    "            apple[subd] = []\n",
    "            for img in os.listdir(os.path.join(path,subd)):\n",
    "                apple[subd].append(img)\n",
    "        elif subd.startswith('Grape'):\n",
    "            # grape = {'grape_healthy': [], 'grape_black_rot': [], 'apple_esca': [], 'apple_spot': []}\n",
    "            grape[subd] = []\n",
    "            for img in os.listdir(os.path.join(path,subd)):\n",
    "                grape[subd].append(img)\n",
    "        else:\n",
    "            print('Plant not supported')\n",
    "    return apple, grape"
   ]
  },
  {
   "cell_type": "code",
   "execution_count": 14,
   "metadata": {},
   "outputs": [],
   "source": [
    "apple, grape = fetch_image_dataset('C:/Users/khali/Desktop/Leaffliction/images')"
   ]
  }
 ],
 "metadata": {
  "kernelspec": {
   "display_name": "Python 3",
   "language": "python",
   "name": "python3"
  },
  "language_info": {
   "codemirror_mode": {
    "name": "ipython",
    "version": 3
   },
   "file_extension": ".py",
   "mimetype": "text/x-python",
   "name": "python",
   "nbconvert_exporter": "python",
   "pygments_lexer": "ipython3",
   "version": "3.12.4"
  }
 },
 "nbformat": 4,
 "nbformat_minor": 2
}
